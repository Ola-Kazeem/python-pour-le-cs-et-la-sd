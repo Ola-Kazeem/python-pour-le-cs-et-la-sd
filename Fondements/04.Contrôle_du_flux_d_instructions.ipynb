{
 "cells": [
  {
   "cell_type": "markdown",
   "metadata": {},
   "source": [
    "<center>\n",
    "    <a href=\"http://www.imsp-benin.com/home/\" ><img src=\"images/logo-imsp-uac.jpg\" style=\"float:left; max-width: 650px; display: inline\" alt=\"IMSP\"/> </a>\n",
    "    </center>\n",
    "\n",
    "\n",
    "\n",
    "<center>\n",
    "    \n",
    "<a href=\"https://acas-yde.org/\" ><img src=\"images/logo-ACAS.jpg\" style=\"float:right; max-width: 250px; display: inline\" alt=\"ACAS\"/></a> \n",
    "    \n",
    "</center>"
   ]
  },
  {
   "cell_type": "markdown",
   "metadata": {},
   "source": [
    "****\n",
    "\n",
    "# <center> <b> <span style=\"color:orange;\"> Programmation en Python </span> </b></center>\n",
    "\n",
    "## <center> <b> <span style=\"color:green;\">Des applications en Calcul Scientifique -  Statistiques -  Science des Données</span> </b></center>\n",
    "\n",
    "\n",
    "\n",
    "****\n",
    "\n",
    "# <center> <b> <span style=\"color:blue;\">Contrôle du flux d'instructions </span> </b></center>\n",
    "\n",
    "<!--NAVIGATION-->\n",
    "< [3. Objets itérables ou conteneurs](03.Objets_itérables_ou_conteneurs.ipynb)| [Sommaire](Index.ipynb) | [5. Fonctions,Modules et Packages](05.Fonctions_Modules_et_Packages.ipynb) >\n",
    "\n",
    "\n",
    "****\n",
    "\n",
    "\n",
    "### <left> <b> <span style=\"color:brown;\">Instructeur : </span> </b></left>[Yaé Ulrich Gaba](https://github.com/gabayae)\n",
    "\n",
    "\n",
    "> **Résumé:** Un script Python est formé d’une suite d’instructions exécutées en séquence de\n",
    "haut en bas. Chaque ligne d’instructions est formée d’une ou plusieurs lignes physiques qui\n",
    "peuvent être continuées par un antislash `\\` ou un caractère ouvrant `[({` pas encore\n",
    "fermé. Cette exécution en séquence peut être modifiée pour choisir ou répéter des portions de code. C’est l’objet de ce calepin.\n",
    "****\n"
   ]
  },
  {
   "cell_type": "markdown",
   "metadata": {},
   "source": [
    "## La structure conditionnelle\n",
    "Les instructions conditionnelles sont des opérations que le programme doit exécuter lorsqu’il\n",
    "expression logiques renvoie `True` ou `False` (selon le cas). Les instructions conditionnelles sont\n",
    "définies à l’intérieur d’une clause `if...else`\n",
    "\n",
    "La structure générale d’un bloc if...else se présente comme suit :\n",
    "\n",
    "```python\n",
    "if expression_logique :\n",
    "    instruction1\n",
    "    instruction2\n",
    "    ..\n",
    "    instructionn\n",
    "else :\n",
    "    autre_bloc_instructions\n",
    "```\n",
    "\n",
    "Attention au symbole `:` à la suite du mot clé if ou else qui marque la fin de la déclaration de\n",
    "la fonction if ou else et le début de la définition des instructions.\n",
    "Noter aussi que la clause else n’est pas obligatoire c'est-à-dire qu’il peut y avoir une clause if\n",
    "sans clause else.\n",
    "\n",
    "Il faut bien noter le rôle essentiel de l’*indentation* qui permet de délimiter chaque bloc d’ins-\n",
    "tructions et la présence des deux points après la condition du choix et après le mot clé `else`."
   ]
  },
  {
   "cell_type": "code",
   "execution_count": null,
   "metadata": {},
   "outputs": [],
   "source": [
    "# Instructions avec une clause « if » simple\n",
    "a = 150\n",
    "if (a > 100):\n",
    "    print(\"a dépasse 100\")\n",
    "\n",
    "print(\"================================================\")\n",
    "print('\\t')\n",
    "    \n",
    "    \n",
    "# Instructions avec la clause if... else...\n",
    "x = 120\n",
    "if (x > 100):\n",
    "    print(\"x dépasse 100\")\n",
    "else:\n",
    "    print(\"x ne dépasse pas 100\")"
   ]
  },
  {
   "cell_type": "markdown",
   "metadata": {},
   "source": [
    "### Instructions avec la clause if... elif... else...\n",
    "\n",
    "La clause `if... elif... else` est utilisée lorsqu’on dispose de plusieurs conditions logiques\n",
    "auxquelles sont associées des instructions à exécuter lorsqu’elles sont vérifiées.\n",
    "\n",
    "```python\n",
    "    x = 0\n",
    "    if x > 0 :\n",
    "        print(\"x est positif\")\n",
    "    elif x < 0 :\n",
    "        print(\"x est négatif\")\n",
    "    else:\n",
    "        print(\"x est nul\")\n",
    " ```       "
   ]
  },
  {
   "cell_type": "code",
   "execution_count": null,
   "metadata": {},
   "outputs": [],
   "source": [
    "x = 0\n",
    "if x > 0 :\n",
    "    print(\"Le nombre x = \",x,\"est positif\")\n",
    "elif x < 0 :\n",
    "    print(\"Le nombre x = \",x,\"est négatif\")\n",
    "else:\n",
    "    print(\"Le nombre x = \",x,\"est nul\")"
   ]
  },
  {
   "cell_type": "markdown",
   "metadata": {},
   "source": [
    "**NB:** Comme le demontre l'exemple utilise plus haur, la clause *elif* peut être utilisée autant de fois qu’il y a de conditions alternatives entre la\n",
    "clause initiale if et la clause finale else. Toutefois, l’utilisation de la clause elif n’est pas\n",
    "obligatoire pour traduire les conditions alternatives. On peut simplement utiliser la clause if à\n",
    "la place."
   ]
  },
  {
   "cell_type": "markdown",
   "metadata": {},
   "source": [
    "### Définir des clauses « if » imbriquées\n",
    "Les exemples précédents traduisent des clause de premier niveau. Dans les programmes\n",
    "complexes, il arrive très fréquemment que les clauses if soient imbriquées. C'est-à-dire que des\n",
    "clauses if sont définies à l’intérieur d’autres clauses if. Et cela à plusieurs niveaux. Voir exemple\n",
    "ci-dessous :"
   ]
  },
  {
   "cell_type": "code",
   "execution_count": null,
   "metadata": {},
   "outputs": [],
   "source": [
    "embranchement = \"rien\"\n",
    "if embranchement == \"vertébrés\":\n",
    "    if classe == \"mammifères\":\n",
    "        if ordre == \"carnivores\":\n",
    "            if famille == \"félins\":\n",
    "                print(\"Il s’agit peut-être d’un chat\")\n",
    "        print(\"C’est en tous cas un mammifère\")\n",
    "    elif classe == \"oiseaux\":\n",
    "        print(\"c’est peut-être un canari\")\n",
    "print(\"La classification des animaux est complexe\")                "
   ]
  },
  {
   "cell_type": "markdown",
   "metadata": {},
   "source": [
    "## Les instructions en boucle\n",
    "\n",
    "Sous python, on distingue deux principales catégories d’instructions en boucles : les\n",
    "instructions en boucle **« while... »** et les instructions en boucle **« for... in... »**.\n",
    "\n",
    "### Les boucles while\n",
    "\n",
    "Après avoir introduit les structures de choix, nous nous intéressons aux structures de répé-\n",
    "tition : ces structures permettent d’exécuter à plusieurs reprises un bloc d’instructions. Ces\n",
    "répétitions se classent en deux catégories :\n",
    "  \n",
    "  - les répétitions conditionnelles : le bloc d’instructions est à répéter autant de fois qu’une\n",
    "condition est vérifiée.\n",
    "\n",
    "  - les répétitions inconditionnelles : le bloc d’instructions est répété un nombre donné de\n",
    "fois.\n",
    "\n",
    "La syntaxe générale de la définition des instructions en boucle while se présente comme suit :\n",
    "\n",
    "```python\n",
    "   Initialisation de la variable d’incrémentation\n",
    "   while condition :\n",
    "        bloc_instructions\n",
    "        incrémentation\n",
    "\n",
    "```\n",
    "\n",
    "Comme dans la\n",
    "structure if, la condition est d’abord évaluée et si elle vraie, le bloc d’instructions est exécuté.\n",
    "Mais ici avec la clause while après exécution du bloc d’instruction, la condition est évaluée à\n",
    "nouveau. Cette exécution se répète jusqu’à ce que la condition devienne fausse. C’est pourquoi\n",
    "il n’est nécessaire de définir une variable d’incrémentation dont la valeur se modifie après\n",
    "chaque exécution de sorte que la condition puisse être fausse à partir d’une certaine valeur.\n",
    "Cette incrémentation est nécessaire pour éviter que les instructions soient indéfiniment\n",
    "évaluées créant ainsi une boucle infinie (ou boucle folle). Une telle situation nécessite alors un\n",
    "arrêt forcé de l’exécution du programme."
   ]
  },
  {
   "cell_type": "code",
   "execution_count": null,
   "metadata": {},
   "outputs": [],
   "source": [
    "x = 1 # Initialisation de la variable x\n",
    "while (x < 10):\n",
    "    print('La valeur de x est ', a)\n",
    "    x = x + 1 # Incrémentation de la variable x"
   ]
  },
  {
   "cell_type": "code",
   "execution_count": null,
   "metadata": {},
   "outputs": [],
   "source": [
    "fruits = ['pommes', 'oranges', 'fraises', 'bananes']\n",
    "i = 0\n",
    "while i < len(fruits):\n",
    "    print (fruits[i])\n",
    "    i = i + 1"
   ]
  },
  {
   "cell_type": "markdown",
   "metadata": {},
   "source": [
    "### Les instructions en boucle « for... in... »\n",
    "\n",
    "Lorsque l’on souhaite répéter un bloc d’instructions un nombre déterminé de fois, on peut\n",
    "utiliser un *compteur actif*, c’est-à-dire une variable qui compte le nombre de répétitions et\n",
    "conditionne la sortie de la boucle **while**. C’est le cas de l’exemple suivant où l’on définit une\n",
    "fonction qui prend en argument un entier `n` et affiche `n` fois le même message.\n",
    "\n",
    "Pour effectuer une telle répétition, on dispose d’une structure de répétition nous économisant\n",
    "d’une part l’initialisation du compteur `( i = 0 )`, et d’autre part son incrémentation `( i += 1 )`:\n",
    "c’est la structure introduite par le mot-clé `for`.\n",
    "\n",
    "La syntaxe générale de la définition d’instructions en boucle for... in... est la suivante :\n",
    "\n",
    "```python\n",
    "   for element in sequence_de_valeurs :\n",
    "        bloc instructions\n",
    "```        "
   ]
  },
  {
   "cell_type": "code",
   "execution_count": null,
   "metadata": {},
   "outputs": [],
   "source": [
    "n = 5\n",
    "for i in range(n):\n",
    "    print('Je me répète {} fois.' ' (i={})'.format(n, i))"
   ]
  },
  {
   "cell_type": "code",
   "execution_count": null,
   "metadata": {},
   "outputs": [],
   "source": [
    "# Instruction dans une boucle « for.. in ... » simple\n",
    "for i in range(1,11) :\n",
    "    print(i)"
   ]
  },
  {
   "cell_type": "code",
   "execution_count": null,
   "metadata": {},
   "outputs": [],
   "source": [
    "# Boucle « for.. in... » sur une chaine de caractères\n",
    "listch = \"Hello world\"\n",
    "for i in listch :\n",
    "    print ( i )"
   ]
  },
  {
   "cell_type": "code",
   "execution_count": null,
   "metadata": {},
   "outputs": [],
   "source": [
    "# Combinaison d’une boucle « for...in ... » et d’une clause « if »\n",
    "listnb = [4, 5, 6]\n",
    "for i in listnb:\n",
    "    if i == 5:\n",
    "        print(\"La condition est vérifiée pour l’élement\", i)\n",
    "    else :\n",
    "        print(\"La condition ,n’est pas vérifiée pour l’élément\", i)"
   ]
  },
  {
   "cell_type": "code",
   "execution_count": null,
   "metadata": {},
   "outputs": [],
   "source": [
    "# Combinaison d’une boucle « for...in ... » et d’une clause « if »\n",
    "mych = \"Hello World\"\n",
    "for lettre in mych :\n",
    "    if lettre in \"AEIOUYaeiouy\":\n",
    "        print ('La lettre', lettre, 'est une voyelle')\n",
    "    else :\n",
    "        print ('La lettre', lettre, 'est une consonne')"
   ]
  },
  {
   "cell_type": "code",
   "execution_count": null,
   "metadata": {},
   "outputs": [],
   "source": [
    "# Combinaison d’une boucle « for...in ... » et d’une clause « if »\n",
    "# On tient compte de caractere `espace`\n",
    "mych = \"Hello World\"\n",
    "for lettre in mych :\n",
    "    if lettre in \"AEIOUYaeiouy\":\n",
    "        print ('La lettre', lettre, 'est une voyelle')\n",
    "    elif lettre == \" \" :\n",
    "        print (\"Il s'agit surement d'un espace\")\n",
    "    else :\n",
    "        print ('La lettre', lettre, 'est une consonne')"
   ]
  },
  {
   "cell_type": "code",
   "execution_count": null,
   "metadata": {},
   "outputs": [],
   "source": [
    "fruits = ['mangue', 'orange', 'pomme', 'banane']\n",
    "couts = [49, 99, 15, 32]\n",
    "for fruit, prix in zip(fruits, couts):\n",
    "    print(\"Une\",fruit, \"coute\", prix, \"frs CFA.\")    "
   ]
  },
  {
   "cell_type": "code",
   "execution_count": null,
   "metadata": {},
   "outputs": [],
   "source": [
    "couts = {'mangue': 49, 'orange': 99, 'pomme': 15, 'banane': 32}\n",
    "for fruit, prix in couts.items():\n",
    "    print (\"Une\",fruit, \"coute\", prix, \"frs CFA.\")"
   ]
  },
  {
   "cell_type": "markdown",
   "metadata": {},
   "source": [
    "### Liste par compréhension\n",
    "Pour créer des listes, Python fournit une facilité syntaxique particulièrement agréable, à savoir les listes (définies) par compréhension (en anglais, *list-comprehensions*). Elles permettent\n",
    "de générer des listes d’une manière très concise, sans avoir à utiliser de boucles si les éléments doivent\n",
    "êtres testés ou traités avant d’être intégrés dans la liste.\n",
    "\n",
    "La syntaxe pour définir une liste par compréhension est proche de celle utilisée en mathématiques pour définir un ensemble par compréhension :"
   ]
  },
  {
   "cell_type": "markdown",
   "metadata": {},
   "source": [
    "<center>\n",
    "    <img src=\"images/list-comprehension.png\" width=\"60%\">\n",
    "    </center>"
   ]
  },
  {
   "cell_type": "markdown",
   "metadata": {},
   "source": [
    "L’expression est de la forme :\n",
    "    \n",
    "                    [expression for expression in sequence [if test]] "
   ]
  },
  {
   "cell_type": "code",
   "execution_count": null,
   "metadata": {},
   "outputs": [],
   "source": [
    "liste = [2, 4, 6, 8, 10]\n",
    "\n",
    "\n",
    "print([3*x for x in liste])\n",
    "print(\"================================================\")\n",
    "print('\\t')\n",
    "\n",
    "\n",
    "\n",
    "print([[x, x**3] for x in liste])\n",
    "print(\"================================================\")\n",
    "print('\\t')\n",
    "\n",
    "\n",
    "\n",
    "print([3*x for x in liste if x > 5] )# on filtre avec une condition\n",
    "print(\"================================================\")\n",
    "print('\\t')\n",
    "\n",
    "\n",
    "\n",
    "print([3*x for x in liste if x**2 < 50]) # idem\n",
    "print(\"================================================\")\n",
    "print('\\t')\n",
    "\n",
    "\n",
    "liste2 = list(range(3))\n",
    "print([x*y for x in liste for y in liste2])\n"
   ]
  },
  {
   "cell_type": "code",
   "execution_count": null,
   "metadata": {},
   "outputs": [],
   "source": [
    "# Voici par exemple, un moyen efficace d’obtenir la liste des années bissextiles dans un intervalle donné :\n",
    "bissextile = [b for b in range(2000, 2100) if (b % 4 ==0 and b % 100 != 0) or (b % 400 == 0)]"
   ]
  },
  {
   "cell_type": "markdown",
   "metadata": {},
   "source": [
    "### Les instructions break et continue dans une clause « while... » ou « for ... in...»\n",
    "Les mots réservés `break` et `continue` sont utilisés pour modifier le comportement d'une boucle\n",
    "« for...in » ou d'une boucle « while... ». L’instruction `break` permet d’arrêter l’évaluation de la\n",
    "boucle et l’exécution des instructions pour sortir prématurément de la boucle même la\n",
    "condition principale définissant la boucle reste encore vraie. Et l’instruction `continue` permet de\n",
    "suspendre l’exécution des instructions lorsque la condition principale est vérifiée. Les exemples\n",
    "ci-dessous sont des illustrations."
   ]
  },
  {
   "cell_type": "code",
   "execution_count": null,
   "metadata": {},
   "outputs": [],
   "source": [
    "# Boucle avec l’instruction break\n",
    "for i in range(5):\n",
    "    if i > 2:\n",
    "        break\n",
    "print (i)"
   ]
  },
  {
   "cell_type": "markdown",
   "metadata": {},
   "source": [
    "Au départ, cette boucle for vise à afficher tous éléments de la séquence de valeurs allant de 1 à 4. Mais avec l’instruction break définie à l’intérieur de la clause if, la boucle for est stoppée\n",
    "lorsque i devient supérieur à 2."
   ]
  },
  {
   "cell_type": "code",
   "execution_count": null,
   "metadata": {},
   "outputs": [],
   "source": [
    "# Boucle avec l’instruction continue\n",
    "for i in range(5):\n",
    "    if i == 2:\n",
    "        continue\n",
    "    print (i)"
   ]
  },
  {
   "cell_type": "markdown",
   "metadata": {},
   "source": [
    "Au départ, cette boucle for est conçue pour afficher tous éléments de la séquence de valeurs\n",
    "allant de 1 à 4. Mais avec l’instruction continue définie à l’intérieur de la clause if, l’instruction\n",
    "print() n’est pas exécutée lorsque i prend la valeur 2. Mais elle est exécutée pour toutes les\n",
    "autres valeurs de la séquence."
   ]
  },
  {
   "cell_type": "markdown",
   "metadata": {},
   "source": [
    "<!--NAVIGATION-->\n",
    "< [3. Objets itérables ou conteneurs](03.Objets_itérables_ou_conteneurs.ipynb)| [Sommaire](Index.ipynb) | [5. Fonctions,Modules et Packages](05.Fonctions_Modules_et_Packages.ipynb) >\n",
    "\n"
   ]
  }
 ],
 "metadata": {
  "kernelspec": {
   "display_name": "Python 3",
   "language": "python",
   "name": "python3"
  },
  "language_info": {
   "codemirror_mode": {
    "name": "ipython",
    "version": 3
   },
   "file_extension": ".py",
   "mimetype": "text/x-python",
   "name": "python",
   "nbconvert_exporter": "python",
   "pygments_lexer": "ipython3",
   "version": "3.7.3"
  }
 },
 "nbformat": 4,
 "nbformat_minor": 2
}
